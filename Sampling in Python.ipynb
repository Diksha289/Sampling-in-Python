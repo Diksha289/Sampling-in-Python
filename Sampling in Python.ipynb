{
 "cells": [
  {
   "cell_type": "markdown",
   "id": "6c457ca7",
   "metadata": {},
   "source": [
    " Sampling Practicles"
   ]
  },
  {
   "cell_type": "code",
   "execution_count": 15,
   "id": "add4be20",
   "metadata": {},
   "outputs": [],
   "source": [
    "import numpy as np\n",
    "import pandas as pd\n",
    "import scipy.stats as stats\n",
    "import matplotlib.pyplot as plt\n",
    "from scipy import stats"
   ]
  },
  {
   "cell_type": "markdown",
   "id": "4aabf1f3",
   "metadata": {},
   "source": [
    "Simple Random Sampling"
   ]
  },
  {
   "cell_type": "code",
   "execution_count": 2,
   "id": "1d7c00f4",
   "metadata": {},
   "outputs": [
    {
     "data": {
      "text/html": [
       "<div>\n",
       "<style scoped>\n",
       "    .dataframe tbody tr th:only-of-type {\n",
       "        vertical-align: middle;\n",
       "    }\n",
       "\n",
       "    .dataframe tbody tr th {\n",
       "        vertical-align: top;\n",
       "    }\n",
       "\n",
       "    .dataframe thead th {\n",
       "        text-align: right;\n",
       "    }\n",
       "</style>\n",
       "<table border=\"1\" class=\"dataframe\">\n",
       "  <thead>\n",
       "    <tr style=\"text-align: right;\">\n",
       "      <th></th>\n",
       "      <th>id</th>\n",
       "      <th>Age</th>\n",
       "    </tr>\n",
       "  </thead>\n",
       "  <tbody>\n",
       "    <tr>\n",
       "      <th>0</th>\n",
       "      <td>1</td>\n",
       "      <td>19</td>\n",
       "    </tr>\n",
       "    <tr>\n",
       "      <th>1</th>\n",
       "      <td>2</td>\n",
       "      <td>19</td>\n",
       "    </tr>\n",
       "    <tr>\n",
       "      <th>2</th>\n",
       "      <td>3</td>\n",
       "      <td>21</td>\n",
       "    </tr>\n",
       "    <tr>\n",
       "      <th>3</th>\n",
       "      <td>4</td>\n",
       "      <td>19</td>\n",
       "    </tr>\n",
       "    <tr>\n",
       "      <th>4</th>\n",
       "      <td>5</td>\n",
       "      <td>19</td>\n",
       "    </tr>\n",
       "  </tbody>\n",
       "</table>\n",
       "</div>"
      ],
      "text/plain": [
       "   id  Age\n",
       "0   1   19\n",
       "1   2   19\n",
       "2   3   21\n",
       "3   4   19\n",
       "4   5   19"
      ]
     },
     "execution_count": 2,
     "metadata": {},
     "output_type": "execute_result"
    }
   ],
   "source": [
    "data=pd.DataFrame({'id': range(1,31), 'Age': np.random.randint(19,24,30)})\n",
    "data.head()"
   ]
  },
  {
   "cell_type": "code",
   "execution_count": null,
   "id": "ac910609",
   "metadata": {},
   "outputs": [],
   "source": [
    "SRSWR_sample=data.sample(n=10,replace=True).sort_values(by='id')\n",
    "SRSWR_mean=SRS_sample['Age'].mean()\n",
    "SRSWR_sample"
   ]
  },
  {
   "cell_type": "code",
   "execution_count": null,
   "id": "5d47d652",
   "metadata": {},
   "outputs": [],
   "source": [
    "SRSwOR_sample=data.sample(n=10,replace=False).sort_values(by='id')\n",
    "SRSwOR_mean=SRS_sample['Age'].mean()\n",
    "SRSwOR_sample"
   ]
  },
  {
   "cell_type": "markdown",
   "id": "90814d8d",
   "metadata": {},
   "source": [
    "Systematic Sampling"
   ]
  },
  {
   "cell_type": "code",
   "execution_count": 4,
   "id": "624b0e1a",
   "metadata": {},
   "outputs": [
    {
     "data": {
      "text/html": [
       "<div>\n",
       "<style scoped>\n",
       "    .dataframe tbody tr th:only-of-type {\n",
       "        vertical-align: middle;\n",
       "    }\n",
       "\n",
       "    .dataframe tbody tr th {\n",
       "        vertical-align: top;\n",
       "    }\n",
       "\n",
       "    .dataframe thead th {\n",
       "        text-align: right;\n",
       "    }\n",
       "</style>\n",
       "<table border=\"1\" class=\"dataframe\">\n",
       "  <thead>\n",
       "    <tr style=\"text-align: right;\">\n",
       "      <th></th>\n",
       "      <th>id</th>\n",
       "      <th>Age</th>\n",
       "    </tr>\n",
       "  </thead>\n",
       "  <tbody>\n",
       "    <tr>\n",
       "      <th>3</th>\n",
       "      <td>4</td>\n",
       "      <td>19</td>\n",
       "    </tr>\n",
       "    <tr>\n",
       "      <th>8</th>\n",
       "      <td>9</td>\n",
       "      <td>19</td>\n",
       "    </tr>\n",
       "    <tr>\n",
       "      <th>13</th>\n",
       "      <td>14</td>\n",
       "      <td>21</td>\n",
       "    </tr>\n",
       "    <tr>\n",
       "      <th>18</th>\n",
       "      <td>19</td>\n",
       "      <td>19</td>\n",
       "    </tr>\n",
       "    <tr>\n",
       "      <th>23</th>\n",
       "      <td>24</td>\n",
       "      <td>20</td>\n",
       "    </tr>\n",
       "    <tr>\n",
       "      <th>28</th>\n",
       "      <td>29</td>\n",
       "      <td>21</td>\n",
       "    </tr>\n",
       "  </tbody>\n",
       "</table>\n",
       "</div>"
      ],
      "text/plain": [
       "    id  Age\n",
       "3    4   19\n",
       "8    9   19\n",
       "13  14   21\n",
       "18  19   19\n",
       "23  24   20\n",
       "28  29   21"
      ]
     },
     "execution_count": 4,
     "metadata": {},
     "output_type": "execute_result"
    }
   ],
   "source": [
    "n=6\n",
    "N_pop=len(data.index)\n",
    "k=round(N_pop/n)\n",
    "i=np.random.randint(1,k)\n",
    "SyS_sample=data.iloc[np.arange(i,N_pop+1,k)]\n",
    "SyS_mean=SyS_sample['Age'].mean()\n",
    "SyS_sample"
   ]
  },
  {
   "cell_type": "code",
   "execution_count": 5,
   "id": "3e72e403",
   "metadata": {},
   "outputs": [
    {
     "data": {
      "text/html": [
       "<div>\n",
       "<style scoped>\n",
       "    .dataframe tbody tr th:only-of-type {\n",
       "        vertical-align: middle;\n",
       "    }\n",
       "\n",
       "    .dataframe tbody tr th {\n",
       "        vertical-align: top;\n",
       "    }\n",
       "\n",
       "    .dataframe thead th {\n",
       "        text-align: right;\n",
       "    }\n",
       "</style>\n",
       "<table border=\"1\" class=\"dataframe\">\n",
       "  <thead>\n",
       "    <tr style=\"text-align: right;\">\n",
       "      <th></th>\n",
       "      <th>id</th>\n",
       "      <th>Age</th>\n",
       "      <th>Gender</th>\n",
       "    </tr>\n",
       "  </thead>\n",
       "  <tbody>\n",
       "    <tr>\n",
       "      <th>1</th>\n",
       "      <td>2</td>\n",
       "      <td>19</td>\n",
       "      <td>M</td>\n",
       "    </tr>\n",
       "    <tr>\n",
       "      <th>4</th>\n",
       "      <td>5</td>\n",
       "      <td>19</td>\n",
       "      <td>F</td>\n",
       "    </tr>\n",
       "    <tr>\n",
       "      <th>5</th>\n",
       "      <td>6</td>\n",
       "      <td>21</td>\n",
       "      <td>F</td>\n",
       "    </tr>\n",
       "    <tr>\n",
       "      <th>6</th>\n",
       "      <td>7</td>\n",
       "      <td>23</td>\n",
       "      <td>F</td>\n",
       "    </tr>\n",
       "    <tr>\n",
       "      <th>8</th>\n",
       "      <td>9</td>\n",
       "      <td>19</td>\n",
       "      <td>M</td>\n",
       "    </tr>\n",
       "    <tr>\n",
       "      <th>9</th>\n",
       "      <td>10</td>\n",
       "      <td>21</td>\n",
       "      <td>F</td>\n",
       "    </tr>\n",
       "    <tr>\n",
       "      <th>14</th>\n",
       "      <td>15</td>\n",
       "      <td>19</td>\n",
       "      <td>M</td>\n",
       "    </tr>\n",
       "    <tr>\n",
       "      <th>16</th>\n",
       "      <td>17</td>\n",
       "      <td>22</td>\n",
       "      <td>M</td>\n",
       "    </tr>\n",
       "    <tr>\n",
       "      <th>23</th>\n",
       "      <td>24</td>\n",
       "      <td>20</td>\n",
       "      <td>M</td>\n",
       "    </tr>\n",
       "    <tr>\n",
       "      <th>25</th>\n",
       "      <td>26</td>\n",
       "      <td>19</td>\n",
       "      <td>F</td>\n",
       "    </tr>\n",
       "    <tr>\n",
       "      <th>27</th>\n",
       "      <td>28</td>\n",
       "      <td>19</td>\n",
       "      <td>F</td>\n",
       "    </tr>\n",
       "    <tr>\n",
       "      <th>28</th>\n",
       "      <td>29</td>\n",
       "      <td>21</td>\n",
       "      <td>F</td>\n",
       "    </tr>\n",
       "  </tbody>\n",
       "</table>\n",
       "</div>"
      ],
      "text/plain": [
       "    id  Age Gender\n",
       "1    2   19      M\n",
       "4    5   19      F\n",
       "5    6   21      F\n",
       "6    7   23      F\n",
       "8    9   19      M\n",
       "9   10   21      F\n",
       "14  15   19      M\n",
       "16  17   22      M\n",
       "23  24   20      M\n",
       "25  26   19      F\n",
       "27  28   19      F\n",
       "28  29   21      F"
      ]
     },
     "execution_count": 5,
     "metadata": {},
     "output_type": "execute_result"
    }
   ],
   "source": [
    "data['Gender']=np.random.choice(['M','F'],30)\n",
    "\n",
    "StrS=pd.DataFrame()\n",
    "nh={'M':5,'F':7}\n",
    "\n",
    "for i in np.unique(data.Gender):\n",
    "  data_temp=data[data.Gender==i]\n",
    "  StrS=pd.concat([StrS,data_temp.sample(n=nh[i])])\n",
    "\n",
    "StrS=StrS.sort_index()\n",
    "StrS"
   ]
  },
  {
   "cell_type": "markdown",
   "id": "b7dde4d7",
   "metadata": {},
   "source": [
    "Que.From a population with N=5000 and 3 strata with sizes 1000, 1500, 1 2 N = N = 2500 3 N = .\n",
    "In the following table sample y-values are given"
   ]
  },
  {
   "cell_type": "code",
   "execution_count": 6,
   "id": "3ca8963e",
   "metadata": {},
   "outputs": [],
   "source": [
    "s1=np.array([5, 4, 1, 2, 4, 3, 7, 5, 0, 3])\n",
    "s2=np.array([11, 9, 13, 9, 4, 5, 5, 14, 8, 9, 11, 7, 10, 14, 7])\n",
    "s3=np.array([22, 16, 18, 18, 23, 20, 20, 19, 20, 16, 21, 20, 26, 20, 26, 18, 21, 17, 22, 21])\n",
    "N1, N2, N3=1000, 1500, 2500\n",
    "n1, n2, n3= 10, 15, 20\n",
    "N=N1+N2+N3\n",
    "n=n1+n2+n3\n",
    "\n",
    "nh=np.array([10,15,20])\n",
    "Nh=np.array([1000,1500,2500])\n",
    "\n",
    "ybarh=np.array([np.mean(s1),np.mean(s2),np.mean(s3)])\n",
    "ybarh\n",
    "\n",
    "Wh=np.array([N1,N2,N3])/N\n",
    "\n",
    "ybarst=sum(Wh*ybarh)\n",
    "\n",
    "S2h=np.array([np.var(s1,ddof=1),np.var(s2,ddof=1),np.var(s3,ddof=1)])\n",
    "S2h\n",
    "\n",
    "se_st=np.sqrt(sum(Wh*Wh*S2h*(1/nh-1/Nh)))"
   ]
  },
  {
   "cell_type": "code",
   "execution_count": 7,
   "id": "9417841a",
   "metadata": {},
   "outputs": [
    {
     "data": {
      "text/plain": [
       "13.5"
      ]
     },
     "execution_count": 7,
     "metadata": {},
     "output_type": "execute_result"
    }
   ],
   "source": [
    "ybarst"
   ]
  },
  {
   "cell_type": "code",
   "execution_count": 8,
   "id": "617b1fc4",
   "metadata": {},
   "outputs": [
    {
     "data": {
      "text/plain": [
       "0.41407016949202935"
      ]
     },
     "execution_count": 8,
     "metadata": {},
     "output_type": "execute_result"
    }
   ],
   "source": [
    "se_st"
   ]
  },
  {
   "cell_type": "markdown",
   "id": "89c8615b",
   "metadata": {},
   "source": [
    "Que. The number of laborers x (in thousands) and the quantity of raw materials y (in lakhs of bales) are given below for 20 jute mills. Draw a sample of 5 units by SRSWOR. Estimate the total amount of raw materials consumed by the 20 mills by\n",
    "(i) Sample mean estimator (ii) Ratio estimator.\n",
    "Compare the estimators 𝑁𝑌 and 𝑁𝑌𝑅 by using their true M.S.E.s and estimated M.S.E.s"
   ]
  },
  {
   "cell_type": "code",
   "execution_count": null,
   "id": "56708bb8",
   "metadata": {},
   "outputs": [],
   "source": [
    "x=[368,384,361,347,403,529,703,396,473,509,512,503,472,429,387,376,412,345,297,633]\n",
    "y=[31,33,37,39,43,61,68,42,41,49,31,29,38,41,40,38,42,45,32,50]\n",
    "x1=sample(x,5)\n",
    "y1=sample(y,5)\n",
    "n=5;N=20\n",
    "xbar=mean(x)\n",
    "Xbar=mean(x1)\n",
    "Ybar=mean(y1)\n",
    "ythat=N*Ybar; ythat\n",
    "sx=var(x)*(n-1)\n",
    "sy=var(y)*(n-1)\n",
    "sxy=cov(x,y)*(n-1)\n",
    "Rhat=Ybar/Xbar\n",
    "Ybar_R=Rhat*xbar; Ybar_R\n",
    "ythat_R=N*Ybar_R; ythat_R\n",
    "betahat=sxy/sx\n",
    "Ybar_reg=Ybar+betahat*(xbar-Xbar); Ybar_reg\n",
    "MSE_Ythat_R=N^2*(1/n-1/N)*(sy+betahat^2*sx-2*betahat*sxy); MSE_Ythat_R\n",
    "sh2=var(y)\n",
    "var_ythat=N^2*(1/n-1/N)*sh2; var_ythat\n",
    "eff=var_ythat/MSE_Ythat_R; eff"
   ]
  },
  {
   "cell_type": "markdown",
   "id": "35473c52",
   "metadata": {},
   "source": [
    "Que. Generate random sample of size 10,000 from 𝑃𝑜𝑖𝑠𝑠𝑜𝑛(𝜆 = 3). Treat this generated sample\n",
    "data as characteristic values of study variables of the population of the size 10,000.\n",
    "Now, draw 5 random samples of size 100 each from this population using SRSWOR, obtain\n",
    "estimate of population mean based on each sample data by using sample mean as an\n",
    "estimator for population mean. Also find the amount of sampling error from your\n",
    "estimates."
   ]
  },
  {
   "cell_type": "code",
   "execution_count": 9,
   "id": "8d1e7e96",
   "metadata": {},
   "outputs": [
    {
     "name": "stdout",
     "output_type": "stream",
     "text": [
      "Sample Mean of 1 sample is 3.050\n",
      "Sample Mean of 2 sample is 3.290\n",
      "Sample Mean of 3 sample is 3.170\n",
      "Sample Mean of 4 sample is 2.810\n",
      "Sample Mean of 5 sample is 2.570\n",
      "Population Mean is 3.070\n",
      "Sampling Errors are as follows: [0.0202 0.2198 0.0998 0.2602 0.5002]\n"
     ]
    }
   ],
   "source": [
    "population = pd.DataFrame({'id':np.arange(1,10001),'X':np.random.poisson(3,10000)})\n",
    "population.head()   \n",
    "sample_means=np.zeros(5)\n",
    "pop_mean=np.mean(population.X)\n",
    "for i in range(5):\n",
    "    temp=population.X[np.random.choice(10000,100)]\n",
    "    sample_means[i]=np.mean(temp)\n",
    "    print('Sample Mean of %d sample is %1.3f'%(i+1,sample_means[i]))\n",
    "print('Population Mean is %1.3f'%(pop_mean))\n",
    "print('Sampling Errors are as follows:',abs(sample_means-pop_mean))"
   ]
  },
  {
   "cell_type": "markdown",
   "id": "06c75e7f",
   "metadata": {},
   "source": [
    "Que. Draw 10,000 samples of size 25 from Normal(300,3^2)and study the sampling distribution of following statistics for n=5,10,25"
   ]
  },
  {
   "cell_type": "code",
   "execution_count": 10,
   "id": "f33f04e4",
   "metadata": {},
   "outputs": [],
   "source": [
    "pop1=np.random.normal(100,3,(10000,25))"
   ]
  },
  {
   "cell_type": "code",
   "execution_count": 11,
   "id": "fe6a57cf",
   "metadata": {},
   "outputs": [
    {
     "data": {
      "text/html": [
       "<div>\n",
       "<style scoped>\n",
       "    .dataframe tbody tr th:only-of-type {\n",
       "        vertical-align: middle;\n",
       "    }\n",
       "\n",
       "    .dataframe tbody tr th {\n",
       "        vertical-align: top;\n",
       "    }\n",
       "\n",
       "    .dataframe thead th {\n",
       "        text-align: right;\n",
       "    }\n",
       "</style>\n",
       "<table border=\"1\" class=\"dataframe\">\n",
       "  <thead>\n",
       "    <tr style=\"text-align: right;\">\n",
       "      <th></th>\n",
       "      <th>En5</th>\n",
       "      <th>Vn5</th>\n",
       "      <th>En10</th>\n",
       "      <th>Vn10</th>\n",
       "      <th>En25</th>\n",
       "      <th>Vn25</th>\n",
       "    </tr>\n",
       "  </thead>\n",
       "  <tbody>\n",
       "    <tr>\n",
       "      <th>Ybar</th>\n",
       "      <td>0.0</td>\n",
       "      <td>0.0</td>\n",
       "      <td>0.0</td>\n",
       "      <td>0.0</td>\n",
       "      <td>0.0</td>\n",
       "      <td>0.0</td>\n",
       "    </tr>\n",
       "    <tr>\n",
       "      <th>S2Y</th>\n",
       "      <td>0.0</td>\n",
       "      <td>0.0</td>\n",
       "      <td>0.0</td>\n",
       "      <td>0.0</td>\n",
       "      <td>0.0</td>\n",
       "      <td>0.0</td>\n",
       "    </tr>\n",
       "    <tr>\n",
       "      <th>Min</th>\n",
       "      <td>0.0</td>\n",
       "      <td>0.0</td>\n",
       "      <td>0.0</td>\n",
       "      <td>0.0</td>\n",
       "      <td>0.0</td>\n",
       "      <td>0.0</td>\n",
       "    </tr>\n",
       "    <tr>\n",
       "      <th>Max</th>\n",
       "      <td>0.0</td>\n",
       "      <td>0.0</td>\n",
       "      <td>0.0</td>\n",
       "      <td>0.0</td>\n",
       "      <td>0.0</td>\n",
       "      <td>0.0</td>\n",
       "    </tr>\n",
       "    <tr>\n",
       "      <th>Range</th>\n",
       "      <td>0.0</td>\n",
       "      <td>0.0</td>\n",
       "      <td>0.0</td>\n",
       "      <td>0.0</td>\n",
       "      <td>0.0</td>\n",
       "      <td>0.0</td>\n",
       "    </tr>\n",
       "  </tbody>\n",
       "</table>\n",
       "</div>"
      ],
      "text/plain": [
       "       En5  Vn5  En10  Vn10  En25  Vn25\n",
       "Ybar   0.0  0.0   0.0   0.0   0.0   0.0\n",
       "S2Y    0.0  0.0   0.0   0.0   0.0   0.0\n",
       "Min    0.0  0.0   0.0   0.0   0.0   0.0\n",
       "Max    0.0  0.0   0.0   0.0   0.0   0.0\n",
       "Range  0.0  0.0   0.0   0.0   0.0   0.0"
      ]
     },
     "execution_count": 11,
     "metadata": {},
     "output_type": "execute_result"
    }
   ],
   "source": [
    "df=pd.DataFrame(np.zeros((5,6)))\n",
    "df.columns=['En5','Vn5','En10','Vn10','En25','Vn25']\n",
    "df.index=['Ybar','S2Y','Min','Max','Range']\n",
    "df"
   ]
  },
  {
   "cell_type": "code",
   "execution_count": 12,
   "id": "5d2d4d06",
   "metadata": {},
   "outputs": [
    {
     "data": {
      "text/html": [
       "<div>\n",
       "<style scoped>\n",
       "    .dataframe tbody tr th:only-of-type {\n",
       "        vertical-align: middle;\n",
       "    }\n",
       "\n",
       "    .dataframe tbody tr th {\n",
       "        vertical-align: top;\n",
       "    }\n",
       "\n",
       "    .dataframe thead th {\n",
       "        text-align: right;\n",
       "    }\n",
       "</style>\n",
       "<table border=\"1\" class=\"dataframe\">\n",
       "  <thead>\n",
       "    <tr style=\"text-align: right;\">\n",
       "      <th></th>\n",
       "      <th>En5</th>\n",
       "      <th>Vn5</th>\n",
       "      <th>En10</th>\n",
       "      <th>Vn10</th>\n",
       "      <th>En25</th>\n",
       "      <th>Vn25</th>\n",
       "    </tr>\n",
       "  </thead>\n",
       "  <tbody>\n",
       "    <tr>\n",
       "      <th>Ybar</th>\n",
       "      <td>99.995250</td>\n",
       "      <td>1.819118</td>\n",
       "      <td>99.996962</td>\n",
       "      <td>0.911842</td>\n",
       "      <td>100.005677</td>\n",
       "      <td>0.361604</td>\n",
       "    </tr>\n",
       "    <tr>\n",
       "      <th>S2Y</th>\n",
       "      <td>9.019850</td>\n",
       "      <td>40.688979</td>\n",
       "      <td>8.985110</td>\n",
       "      <td>17.792759</td>\n",
       "      <td>8.998246</td>\n",
       "      <td>6.693042</td>\n",
       "    </tr>\n",
       "    <tr>\n",
       "      <th>Min</th>\n",
       "      <td>96.498137</td>\n",
       "      <td>16.288164</td>\n",
       "      <td>95.373402</td>\n",
       "      <td>24.509275</td>\n",
       "      <td>94.111906</td>\n",
       "      <td>37.010837</td>\n",
       "    </tr>\n",
       "    <tr>\n",
       "      <th>Max</th>\n",
       "      <td>103.482789</td>\n",
       "      <td>16.169763</td>\n",
       "      <td>104.613055</td>\n",
       "      <td>24.348393</td>\n",
       "      <td>105.899228</td>\n",
       "      <td>37.110764</td>\n",
       "    </tr>\n",
       "    <tr>\n",
       "      <th>Range</th>\n",
       "      <td>6.984652</td>\n",
       "      <td>55.455449</td>\n",
       "      <td>9.239653</td>\n",
       "      <td>91.008693</td>\n",
       "      <td>11.787322</td>\n",
       "      <td>143.452140</td>\n",
       "    </tr>\n",
       "  </tbody>\n",
       "</table>\n",
       "</div>"
      ],
      "text/plain": [
       "              En5        Vn5        En10       Vn10        En25        Vn25\n",
       "Ybar    99.995250   1.819118   99.996962   0.911842  100.005677    0.361604\n",
       "S2Y      9.019850  40.688979    8.985110  17.792759    8.998246    6.693042\n",
       "Min     96.498137  16.288164   95.373402  24.509275   94.111906   37.010837\n",
       "Max    103.482789  16.169763  104.613055  24.348393  105.899228   37.110764\n",
       "Range    6.984652  55.455449    9.239653  91.008693   11.787322  143.452140"
      ]
     },
     "execution_count": 12,
     "metadata": {},
     "output_type": "execute_result"
    }
   ],
   "source": [
    "n=[5,10,25]\n",
    "for i in range(3):\n",
    "    x=pop1[:,:n[i]]\n",
    "    df.iloc[0,2*i]=np.mean(np.mean(x,axis=1))\n",
    "    df.iloc[0,2*i+1]=np.mean((np.mean(x,axis=1)-100)**2)\n",
    "    \n",
    "    df.iloc[1,2*i]=np.mean(np.var(x,axis=1,ddof=1))\n",
    "    df.iloc[1,2*i+1]=np.mean((np.var(x,axis=1,ddof=1)-9)**2)\n",
    "    \n",
    "    df.iloc[2,2*i]=np.mean(np.min(x,axis=1))\n",
    "    df.iloc[2,2*i+1]=np.mean((np.min(x,axis=1)-100)**2)\n",
    "\n",
    "    df.iloc[3,2*i]=np.mean(np.max(x,axis=1))\n",
    "    df.iloc[3,2*i+1]=np.mean((np.max(x,axis=1)-100)**2)\n",
    "\n",
    "    df.iloc[4,2*i]=np.mean(np.max(x,axis=1)-np.min(x,axis=1))\n",
    "    df.iloc[4,2*i+1]=np.mean((np.max(x,axis=1)-np.min(x,axis=1))**2)\n",
    "    \n",
    "df"
   ]
  },
  {
   "cell_type": "code",
   "execution_count": 13,
   "id": "c2184f49",
   "metadata": {},
   "outputs": [
    {
     "data": {
      "text/html": [
       "<div>\n",
       "<style scoped>\n",
       "    .dataframe tbody tr th:only-of-type {\n",
       "        vertical-align: middle;\n",
       "    }\n",
       "\n",
       "    .dataframe tbody tr th {\n",
       "        vertical-align: top;\n",
       "    }\n",
       "\n",
       "    .dataframe thead th {\n",
       "        text-align: right;\n",
       "    }\n",
       "</style>\n",
       "<table border=\"1\" class=\"dataframe\">\n",
       "  <thead>\n",
       "    <tr style=\"text-align: right;\">\n",
       "      <th></th>\n",
       "      <th>0</th>\n",
       "      <th>1</th>\n",
       "      <th>2</th>\n",
       "    </tr>\n",
       "  </thead>\n",
       "  <tbody>\n",
       "    <tr>\n",
       "      <th>0</th>\n",
       "      <td>138</td>\n",
       "      <td>142</td>\n",
       "      <td>145</td>\n",
       "    </tr>\n",
       "    <tr>\n",
       "      <th>1</th>\n",
       "      <td>138</td>\n",
       "      <td>142</td>\n",
       "      <td>155</td>\n",
       "    </tr>\n",
       "    <tr>\n",
       "      <th>2</th>\n",
       "      <td>138</td>\n",
       "      <td>142</td>\n",
       "      <td>143</td>\n",
       "    </tr>\n",
       "    <tr>\n",
       "      <th>3</th>\n",
       "      <td>138</td>\n",
       "      <td>145</td>\n",
       "      <td>155</td>\n",
       "    </tr>\n",
       "    <tr>\n",
       "      <th>4</th>\n",
       "      <td>138</td>\n",
       "      <td>145</td>\n",
       "      <td>143</td>\n",
       "    </tr>\n",
       "    <tr>\n",
       "      <th>5</th>\n",
       "      <td>138</td>\n",
       "      <td>155</td>\n",
       "      <td>143</td>\n",
       "    </tr>\n",
       "    <tr>\n",
       "      <th>6</th>\n",
       "      <td>142</td>\n",
       "      <td>145</td>\n",
       "      <td>155</td>\n",
       "    </tr>\n",
       "    <tr>\n",
       "      <th>7</th>\n",
       "      <td>142</td>\n",
       "      <td>145</td>\n",
       "      <td>143</td>\n",
       "    </tr>\n",
       "    <tr>\n",
       "      <th>8</th>\n",
       "      <td>142</td>\n",
       "      <td>155</td>\n",
       "      <td>143</td>\n",
       "    </tr>\n",
       "    <tr>\n",
       "      <th>9</th>\n",
       "      <td>145</td>\n",
       "      <td>155</td>\n",
       "      <td>143</td>\n",
       "    </tr>\n",
       "  </tbody>\n",
       "</table>\n",
       "</div>"
      ],
      "text/plain": [
       "     0    1    2\n",
       "0  138  142  145\n",
       "1  138  142  155\n",
       "2  138  142  143\n",
       "3  138  145  155\n",
       "4  138  145  143\n",
       "5  138  155  143\n",
       "6  142  145  155\n",
       "7  142  145  143\n",
       "8  142  155  143\n",
       "9  145  155  143"
      ]
     },
     "execution_count": 13,
     "metadata": {},
     "output_type": "execute_result"
    }
   ],
   "source": [
    "import itertools\n",
    "pd.DataFrame(list(itertools.combinations([138, 142, 145, 155,143],3)))"
   ]
  },
  {
   "cell_type": "markdown",
   "id": "ee678304",
   "metadata": {},
   "source": [
    "Que. A SRS of 30 households was drawn from a city area containing 14,848 households. The number of persons per household in sample was as follows 5, 6, 3, 3, 2, 3, 3, 3, 4, 4, 3, 2, 7, 4, 3,5, 4, 4, 3, 3, 4, 3, 3, 1, 2, 4, 3, 4, 2, 4 Estimate the total number of people in the area and compute the probability that this estimate is within ± 10 % of the true value."
   ]
  },
  {
   "cell_type": "code",
   "execution_count": 16,
   "id": "a697a490",
   "metadata": {},
   "outputs": [
    {
     "data": {
      "text/plain": [
       "3.466666666666667"
      ]
     },
     "execution_count": 16,
     "metadata": {},
     "output_type": "execute_result"
    }
   ],
   "source": [
    "N=14848\n",
    "n=30\n",
    "y=[5, 6, 3, 3, 2, 3, 3, 3, 4, 4, 3, 2, 7, 4, 3,\n",
    "    5, 4, 4, 3, 3, 4, 3, 3, 1, 2, 4, 3, 4, 2, 4]\n",
    "ybar=np.mean(y)\n",
    "ybar"
   ]
  },
  {
   "cell_type": "code",
   "execution_count": 17,
   "id": "6dae70cc",
   "metadata": {},
   "outputs": [
    {
     "data": {
      "text/plain": [
       "-1.0"
      ]
     },
     "execution_count": 17,
     "metadata": {},
     "output_type": "execute_result"
    }
   ],
   "source": [
    "sy2=np.var(y)\n",
    "sy2\n",
    "v_ybar=(1/n-1/N)*sy2\n",
    "v_ybar\n",
    "yt_hat=N*ybar\n",
    "yt_hat\n",
    "v_yt_hat=(N^2)*(v_ybar)\n",
    "v_yt_hat\n",
    "a_hat=0.1*yt_hat/np.sqrt(v_yt_hat);a_hat\n",
    "p=stats.norm.pdf(a_hat,loc=0,scale=1)-stats.norm.pdf(-a_hat,loc=0,scale=1);p\n",
    "#or\n",
    "p=stats.norm.pdf(a_hat,0,1)\n",
    "p\n",
    "pp=2*p-1\n",
    "pp"
   ]
  },
  {
   "cell_type": "markdown",
   "id": "de544430",
   "metadata": {},
   "source": [
    "Que. Calculate probability of random variable in normal distribution"
   ]
  },
  {
   "cell_type": "code",
   "execution_count": 18,
   "id": "1e85e8e8",
   "metadata": {},
   "outputs": [],
   "source": [
    "x=1.0"
   ]
  },
  {
   "cell_type": "code",
   "execution_count": 19,
   "id": "a69dfc45",
   "metadata": {},
   "outputs": [
    {
     "name": "stdout",
     "output_type": "stream",
     "text": [
      "0.24197072451914337\n"
     ]
    }
   ],
   "source": [
    "pdf_probability=stats.norm.pdf(x,loc=0,scale=1)\n",
    "print(pdf_probability)"
   ]
  },
  {
   "cell_type": "code",
   "execution_count": null,
   "id": "7ec883bd",
   "metadata": {},
   "outputs": [],
   "source": [
    "y=0.5"
   ]
  },
  {
   "cell_type": "code",
   "execution_count": 20,
   "id": "925ca419",
   "metadata": {},
   "outputs": [
    {
     "name": "stdout",
     "output_type": "stream",
     "text": [
      "0.8413447460685429\n"
     ]
    }
   ],
   "source": [
    "cdf_probability=stats.norm.cdf(x,loc=0,scale=1)\n",
    "print(cdf_probability)"
   ]
  },
  {
   "cell_type": "markdown",
   "id": "d2088a83",
   "metadata": {},
   "source": [
    "Que. The following table shows the weekly family income (X ) and weekly family expenditure on food (Y ) in SRS of 30 low-income families. From this sample estimate the mean weekly expenditure on food per family and the percentage of income spent on food."
   ]
  },
  {
   "cell_type": "code",
   "execution_count": 21,
   "id": "804984f3",
   "metadata": {},
   "outputs": [],
   "source": [
    "X=[620, 620, 870, 650, 580, 920, 880, 790, 830, 620, 630, 620, 600, 750, 900,\n",
    "    750, 690, 830, 850, 730, 660, 580, 770, 690, 650, 770, 690, 950, 770, 690]\n",
    "Y=[143, 208, 227, 305, 412, 282, 242, 300, 242, 444, 134, 198, 294, 271, 222,\n",
    "    377, 226, 360, 206, 277, 259, 233, 398, 168, 378, 348, 287, 630, 195, 216]"
   ]
  },
  {
   "cell_type": "code",
   "execution_count": 22,
   "id": "1236e863",
   "metadata": {},
   "outputs": [
    {
     "data": {
      "text/plain": [
       "731.6666666666666"
      ]
     },
     "execution_count": 22,
     "metadata": {},
     "output_type": "execute_result"
    }
   ],
   "source": [
    "n1=30\n",
    "n2=30\n",
    "Xbar=np.mean(X)\n",
    "Xbar"
   ]
  },
  {
   "cell_type": "code",
   "execution_count": 23,
   "id": "a1e4f428",
   "metadata": {},
   "outputs": [
    {
     "data": {
      "text/plain": [
       "282.73333333333335"
      ]
     },
     "execution_count": 23,
     "metadata": {},
     "output_type": "execute_result"
    }
   ],
   "source": [
    "Ybar=np.mean(Y)\n",
    "Ybar"
   ]
  },
  {
   "cell_type": "code",
   "execution_count": null,
   "id": "06d949f4",
   "metadata": {},
   "outputs": [],
   "source": [
    "percentage=(Y/X)*100\n",
    "percentage\n",
    "np.mean(percentage)"
   ]
  },
  {
   "cell_type": "markdown",
   "id": "827f4309",
   "metadata": {},
   "source": [
    "Que. How large sample should be taken from a population of 2000 units so that sample estimate of population mean ( y ) differs from its true value by a quantity less than 20 with probability 0.95? It is given that an estimate of population variance is 10,000."
   ]
  },
  {
   "cell_type": "code",
   "execution_count": 24,
   "id": "d58ff700",
   "metadata": {},
   "outputs": [
    {
     "data": {
      "text/plain": [
       "0.025"
      ]
     },
     "execution_count": 24,
     "metadata": {},
     "output_type": "execute_result"
    }
   ],
   "source": [
    "N=2000\n",
    "sy2=10000\n",
    "e=20\n",
    "a=0.05/2\n",
    "a"
   ]
  },
  {
   "cell_type": "code",
   "execution_count": 25,
   "id": "d2692643",
   "metadata": {},
   "outputs": [
    {
     "data": {
      "text/plain": [
       "1.9599639845400545"
      ]
     },
     "execution_count": 25,
     "metadata": {},
     "output_type": "execute_result"
    }
   ],
   "source": [
    "z=abs(stats.norm.ppf(a))\n",
    "z"
   ]
  },
  {
   "cell_type": "code",
   "execution_count": null,
   "id": "11a6dc32",
   "metadata": {},
   "outputs": [],
   "source": [
    "n1=(N*(z^2)*sy2)/((N*e^2)+(z^2*s)) #without replacement\n",
    "n2=((N-1)*(z^2)*sy2)/(N*e^2)  #with replacement"
   ]
  },
  {
   "cell_type": "markdown",
   "id": "26016bad",
   "metadata": {},
   "source": [
    "Que.Select a random sample of size 200 from Bernoulli ( p=0.67). Treat it as the result of the 10th class here ‘1’ indicates student is passed and ‘0’ indicates student is failed. Now, based on this sample, estimate the population proportion."
   ]
  },
  {
   "cell_type": "code",
   "execution_count": null,
   "id": "42793184",
   "metadata": {},
   "outputs": [],
   "source": [
    "n=200\n",
    "p=0.67\n",
    "r=np.random.binomial(200,1,0.67)\n",
    "r\n",
    "phat=np.mean(r)\n",
    "phat"
   ]
  },
  {
   "cell_type": "markdown",
   "id": "e0d9a672",
   "metadata": {},
   "source": [
    "Que. The proportion of families having 2 or more children ( p) in a certain city is to be estimated. There are N= 10,000 families, a random sample of n = 200 families is selected, and we find that pˆ = 0.55. Calculate 90% confidence interval for p."
   ]
  },
  {
   "cell_type": "code",
   "execution_count": 26,
   "id": "08c38378",
   "metadata": {},
   "outputs": [
    {
     "data": {
      "text/plain": [
       "1.9599639845400545"
      ]
     },
     "execution_count": 26,
     "metadata": {},
     "output_type": "execute_result"
    }
   ],
   "source": [
    "N=10000\n",
    "n=100\n",
    "phat=0.55\n",
    "z=abs(stats.norm.ppf(0.025))\n",
    "z"
   ]
  },
  {
   "cell_type": "code",
   "execution_count": 27,
   "id": "2bcfbe4d",
   "metadata": {},
   "outputs": [
    {
     "data": {
      "text/plain": [
       "0.45297693149055696"
      ]
     },
     "execution_count": 27,
     "metadata": {},
     "output_type": "execute_result"
    }
   ],
   "source": [
    "LL=phat-z*np.sqrt(((N-n)*phat*(1-phat))/(n*(N-1)))  #Lower limit\n",
    "LL"
   ]
  },
  {
   "cell_type": "code",
   "execution_count": 28,
   "id": "f738bb4d",
   "metadata": {},
   "outputs": [
    {
     "data": {
      "text/plain": [
       "0.6470230685094431"
      ]
     },
     "execution_count": 28,
     "metadata": {},
     "output_type": "execute_result"
    }
   ],
   "source": [
    "UL=phat+z*np.sqrt(((N-n)*phat*(1-phat))/(n*(N-1)))   #Upper limit\n",
    "UL"
   ]
  },
  {
   "cell_type": "markdown",
   "id": "83e1b220",
   "metadata": {},
   "source": [
    "Que. A preliminary random sample of n =50 students is selected from N =4000 students and it is found that 30 smoke. How large a sample must be selected so that the sample estimate lies within 5% of the true value with confidence coefficient of 90%."
   ]
  },
  {
   "cell_type": "code",
   "execution_count": 29,
   "id": "539205ef",
   "metadata": {},
   "outputs": [
    {
     "data": {
      "text/plain": [
       "0.6"
      ]
     },
     "execution_count": 29,
     "metadata": {},
     "output_type": "execute_result"
    }
   ],
   "source": [
    "N=4000\n",
    "phat=30/50\n",
    "phat"
   ]
  },
  {
   "cell_type": "code",
   "execution_count": 30,
   "id": "b0c1eafa",
   "metadata": {},
   "outputs": [
    {
     "data": {
      "text/plain": [
       "0.03"
      ]
     },
     "execution_count": 30,
     "metadata": {},
     "output_type": "execute_result"
    }
   ],
   "source": [
    "e=0.05*phat\n",
    "e"
   ]
  },
  {
   "cell_type": "code",
   "execution_count": 31,
   "id": "d7526d90",
   "metadata": {},
   "outputs": [
    {
     "data": {
      "text/plain": [
       "1.6448536269514729"
      ]
     },
     "execution_count": 31,
     "metadata": {},
     "output_type": "execute_result"
    }
   ],
   "source": [
    "z=abs(stats.norm.ppf(0.05))\n",
    "z"
   ]
  },
  {
   "cell_type": "code",
   "execution_count": null,
   "id": "2b0a5902",
   "metadata": {},
   "outputs": [],
   "source": [
    "n=(N*z^2*phat*(1-phat))/((N-1)*e^2+z^2*phat*(1-phat))\n",
    "n"
   ]
  },
  {
   "cell_type": "markdown",
   "id": "9b61a851",
   "metadata": {},
   "source": [
    "Que. A major metropolitan newspaper selected a simple random sample of 1,600 readers from their list of 100,000 subscribers. They asked whether the paper should increase its coverage of local news. Forty percent of the sample wanted more local news. Estimate the 99% confidence interval for the proportion of readers who would like more coverage of local news?"
   ]
  },
  {
   "cell_type": "code",
   "execution_count": 32,
   "id": "51231eb0",
   "metadata": {},
   "outputs": [
    {
     "data": {
      "text/plain": [
       "1.6448536269514729"
      ]
     },
     "execution_count": 32,
     "metadata": {},
     "output_type": "execute_result"
    }
   ],
   "source": [
    "N=100000\n",
    "n=1600\n",
    "phat=6.4\n",
    "z=abs(stats.norm.ppf(0.05))\n",
    "z"
   ]
  },
  {
   "cell_type": "code",
   "execution_count": null,
   "id": "dc82040b",
   "metadata": {},
   "outputs": [],
   "source": [
    "LL=phat-z*np.sqrt(((N-n)*phat*(1-phat))/(n*(N-1)))\n",
    "LL\n",
    "UL=phat+z*np.sqrt(((N-n)*phat*(1-phat))/(n*(N-1)))\n",
    "UL"
   ]
  },
  {
   "cell_type": "markdown",
   "id": "67946b9b",
   "metadata": {},
   "source": [
    "Que.Generate Random Sample from distributions"
   ]
  },
  {
   "cell_type": "code",
   "execution_count": 33,
   "id": "fcaecaf8",
   "metadata": {},
   "outputs": [
    {
     "name": "stdout",
     "output_type": "stream",
     "text": [
      "[0 0 2 0 2 2]\n",
      "[0 1 3 6 0]\n",
      "[3 1 2 2 1]\n",
      "[2 2 1]\n",
      "[5.37726842 3.97757273 6.32528125 2.93862111 2.82281178 1.9521019 ]\n",
      "[3.94469156 2.05486526 4.00688342 2.24221241 2.07900817]\n",
      "[ 1.1616095   1.0270373  -0.19358743 -1.08946505 -0.04958906]\n",
      "[1.24474486 0.08419851 0.45745279 2.91185658 0.1256451 ]\n",
      "[0.57586168 0.9954533  2.82952825 0.41339283 0.27550186]\n"
     ]
    }
   ],
   "source": [
    "print(np.random.binomial(2, 0.6, 6))\n",
    "print(np.random.poisson(2, 5))\n",
    "print(np.random.geometric(0.6, 5))\n",
    "print(np.random.hypergeometric(15, 12, 4, 3))\n",
    "print(np.random.uniform(0, 7, 6))\n",
    "print(np.random.normal(3, 1, 5))\n",
    "print(np.random.standard_t(30, 5))\n",
    "print(np.random.exponential(3 / 2, 5))\n",
    "print(np.random.f(2, 3, 5))"
   ]
  },
  {
   "cell_type": "markdown",
   "id": "0eeef68e",
   "metadata": {},
   "source": [
    "Que. The following data represent the scores obtained by 27 students in a midterm test"
   ]
  },
  {
   "cell_type": "code",
   "execution_count": 34,
   "id": "94498757",
   "metadata": {},
   "outputs": [
    {
     "data": {
      "image/png": "[encoded data removed]",
      "text/plain": [
       "<Figure size 360x360 with 1 Axes>"
      ]
     },
     "metadata": {
      "needs_background": "light"
     },
     "output_type": "display_data"
    }
   ],
   "source": [
    "data=np.array([79,78,78 ,67 ,76 ,87 ,85 ,73 ,66 ,99 ,84 ,72 ,66 ,57,94 ,84 ,72, 63 ,57 ,48 ,50 ,61, 71, 82, 93 ,100, 89])\n",
    "fig,ax=plt.subplots(figsize=(5,5))\n",
    "ax.hist(data,bins=[50,60,70,80,90,100])\n",
    "plt.xlabel('Scores of students')\n",
    "plt.ylabel('No of Students')\n",
    "plt.title('Histogram')\n",
    "plt.show()"
   ]
  },
  {
   "cell_type": "code",
   "execution_count": 35,
   "id": "1f9bc19c",
   "metadata": {},
   "outputs": [
    {
     "data": {
      "image/png": "[encoded data removed]",
      "text/plain": [
       "<Figure size 432x288 with 1 Axes>"
      ]
     },
     "metadata": {
      "needs_background": "light"
     },
     "output_type": "display_data"
    }
   ],
   "source": [
    "plt.boxplot(data)\n",
    "plt.title('Boxplot')\n",
    "plt.show()"
   ]
  },
  {
   "cell_type": "code",
   "execution_count": 36,
   "id": "85158e7f",
   "metadata": {},
   "outputs": [
    {
     "data": {
      "image/png": "[encoded data removed]",
      "text/plain": [
       "<Figure size 432x288 with 1 Axes>"
      ]
     },
     "metadata": {
      "needs_background": "light"
     },
     "output_type": "display_data"
    }
   ],
   "source": [
    "plt.plot(data,'ro')\n",
    "plt.ylabel('Scores of students')\n",
    "plt.xlabel('No of Students')\n",
    "plt.title('Dot plot')\n",
    "plt.show()"
   ]
  },
  {
   "cell_type": "markdown",
   "id": "29492c86",
   "metadata": {},
   "source": [
    "Que.A primary school has four classes class I, II, III and IV with number of students 40, 35, 35 and 30 respectively. A stratified random sample with allocation vector (n1,n2,n3,n4) (8,5,7,5)was drawn and the weights of students selected in sample are noted as below. i) Obtain the estimate of mean weight of students in the school. ii) Obtain 95% C.I. for mean weight of students in the school."
   ]
  },
  {
   "cell_type": "code",
   "execution_count": 37,
   "id": "c8f744d2",
   "metadata": {},
   "outputs": [
    {
     "data": {
      "text/plain": [
       "24.90357142857143"
      ]
     },
     "execution_count": 37,
     "metadata": {},
     "output_type": "execute_result"
    }
   ],
   "source": [
    "N=140\n",
    "n=25\n",
    "N1,N2,N3,N4=40,35,35,30\n",
    "n1,n2,n3,n4=8,5,7,5\n",
    "Nh=np.array([40,35,35,30])\n",
    "nh=np.array([8,5,7,5])\n",
    "s1=np.array([15.5, 14.5, 17.5, 20.5, 21.5, 20, 16, 22])\n",
    "s2=np.array([24.5, 29.5, 27.5, 24.5, 28, 23, 28.5])\n",
    "s3=np.array([24.5, 29.5, 27.5, 24.5, 28, 23, 28.5])\n",
    "s4=np.array([25.5, 30.5, 31.5, 28.5, 33])\n",
    "ybarh=np.array([np.mean(s1),np.mean(s2),np.mean(s3),np.mean(s4)])\n",
    "wh=np.array([N1,N2,N3,N4])/N\n",
    "wh\n",
    "Ybar_st=sum(wh*ybarh)\n",
    "Ybar_st"
   ]
  },
  {
   "cell_type": "code",
   "execution_count": 38,
   "id": "13f66b55",
   "metadata": {},
   "outputs": [
    {
     "name": "stdout",
     "output_type": "stream",
     "text": [
      "[24.571121063899557, 25.2360217932433]\n"
     ]
    }
   ],
   "source": [
    "S2h=np.array([np.var(s1,ddof=1),np.var(s2,ddof=1),np.var(s3,ddof=1),np.var(s4,ddof=1)])\n",
    "S2h\n",
    "Est_var_Ybar_st=sum((1/nh-1/Nh)*wh*wh*S2h)\n",
    "Est_var_Ybar_st\n",
    "z=abs(stats.norm.ppf(q=0.25))\n",
    "z\n",
    "LL=Ybar_st-z*np.sqrt(Est_var_Ybar_st)\n",
    "UL=Ybar_st+z*np.sqrt(Est_var_Ybar_st)\n",
    "print([LL,UL])"
   ]
  },
  {
   "cell_type": "markdown",
   "id": "d4d19733",
   "metadata": {},
   "source": [
    "Que.A Loksabha constituency consists of three tehsils with populations sizes 𝑁1 = 50000, 𝑁2 = 35000 and 𝑁3 = 25000. A politician Mr. X wants to know the proportion (𝑝̂)of people who may vote in favour of him in election. The statistician has taken SRS from three tehsils with sample sizes 𝑛1 = 2000, 𝑛2 = 1500 and 𝑛3 = 1500 respectively. Based on opinion survey conducted to estimate (𝑝), it has been observed that 1050,790 and 450 peoples respectively from three tehsils have voted in favour of Mr. X. Using stratified random sampling method, estimate (𝑝) and S.E. of your estimate of (𝑝)."
   ]
  },
  {
   "cell_type": "code",
   "execution_count": 39,
   "id": "ba0d23ab",
   "metadata": {},
   "outputs": [
    {
     "name": "stdout",
     "output_type": "stream",
     "text": [
      "ÉStimate of population proportion is 0.47439393939393937\n",
      "ÉStimate S.E. of population proportion is 0.006903678373052407\n"
     ]
    }
   ],
   "source": [
    "Nh=np.array([50000,35000,25000])\n",
    "nh=np.array([2000,1500,1500])\n",
    "wh=Nh/sum(Nh)\n",
    "ah=np.array([1050,790,450])\n",
    "ph_hat=ah/nh\n",
    "phat_st=sum(wh*ph_hat)\n",
    "phat_st\n",
    "print('ÉStimate of population proportion is', phat_st)\n",
    "bh=(Nh-nh)/(Nh*(nh-1))\n",
    "var_p_st_hat=sum((wh*wh*bh*ph_hat*(1-ph_hat)))\n",
    "var_p_st_hat\n",
    "SE_p_st_hat=np.sqrt(var_p_st_hat)\n",
    "SE_p_st_hat\n",
    "print('ÉStimate S.E. of population proportion is',SE_p_st_hat)"
   ]
  },
  {
   "cell_type": "markdown",
   "id": "87c1d63f",
   "metadata": {},
   "source": [
    "Que. Following table give the yield of paddy and area in acres of 5 villages, selected by simple random sampling without replacement from 12 villages in certain region. We have mean area per village (𝑥 =988.75).Estimate the yield of paddy per village (𝑦) by ratio method and regression method. Also, obtain the S.E. of your estimates. Estimate efficiency of regression method over ratio method."
   ]
  },
  {
   "cell_type": "code",
   "execution_count": 40,
   "id": "28a6a6be",
   "metadata": {},
   "outputs": [
    {
     "data": {
      "text/plain": [
       "8903.240768167456"
      ]
     },
     "execution_count": 40,
     "metadata": {},
     "output_type": "execute_result"
    }
   ],
   "source": [
    "X=np.array([1054 ,973,1089 ,1054 ,894])\n",
    "Y=np.array([10316,7025,10512,8963,8783])\n",
    "Xbar=X.mean()\n",
    "Ybar=Y.mean()\n",
    "N=12\n",
    "n=len(X)\n",
    "xbar=988.75\n",
    "#By Ratio Method\n",
    "R=Ybar/Xbar\n",
    "Ybar_R=R*xbar\n",
    "Ybar_R"
   ]
  },
  {
   "cell_type": "code",
   "execution_count": 41,
   "id": "569dd0a2",
   "metadata": {},
   "outputs": [
    {
     "data": {
      "text/plain": [
       "array([[   179016.57221841,   -340775.10915995],\n",
       "       [  -340775.10915995, -16357214.65363731]])"
      ]
     },
     "execution_count": 41,
     "metadata": {},
     "output_type": "execute_result"
    }
   ],
   "source": [
    "Est_MSE_Ybar_R=(1/n-1/N)*(np.var(Y)+R*R*np.var(X)-2*R*np.cov(X,Y)*(n-1))\n",
    "Est_MSE_Ybar_R"
   ]
  },
  {
   "cell_type": "code",
   "execution_count": 42,
   "id": "aee4462b",
   "metadata": {},
   "outputs": [
    {
     "data": {
      "text/plain": [
       "array([[  1.25      ,  13.67002627],\n",
       "       [ 13.67002627, 396.37064838]])"
      ]
     },
     "execution_count": 42,
     "metadata": {},
     "output_type": "execute_result"
    }
   ],
   "source": [
    "#By Regression Method\n",
    "beta_hat=np.cov(X,Y)/np.var(X)\n",
    "beta_hat"
   ]
  },
  {
   "cell_type": "code",
   "execution_count": 43,
   "id": "ff093ba2",
   "metadata": {},
   "outputs": [
    {
     "data": {
      "text/plain": [
       "array([[9089.7375    , 8791.03586829],\n",
       "       [8791.03586829, -412.91409365]])"
      ]
     },
     "execution_count": 43,
     "metadata": {},
     "output_type": "execute_result"
    }
   ],
   "source": [
    "Ybar_Reg=Ybar+beta_hat*(xbar-Xbar)\n",
    "Ybar_Reg"
   ]
  }
 ],
 "metadata": {
  "kernelspec": {
   "display_name": "Python 3 (ipykernel)",
   "language": "python",
   "name": "python3"
  },
  "language_info": {
   "codemirror_mode": {
    "name": "ipython",
    "version": 3
   },
   "file_extension": ".py",
   "mimetype": "text/x-python",
   "name": "python",
   "nbconvert_exporter": "python",
   "pygments_lexer": "ipython3",
   "version": "3.9.7"
  }
 },
 "nbformat": 4,
 "nbformat_minor": 5
}
